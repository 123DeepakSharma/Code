{
  "nbformat": 4,
  "nbformat_minor": 0,
  "metadata": {
    "colab": {
      "private_outputs": true,
      "provenance": [],
      "authorship_tag": "ABX9TyOLW4N8R+JrC9JnGYDrzwot",
      "include_colab_link": true
    },
    "kernelspec": {
      "name": "python3",
      "display_name": "Python 3"
    },
    "language_info": {
      "name": "python"
    }
  },
  "cells": [
    {
      "cell_type": "markdown",
      "metadata": {
        "id": "view-in-github",
        "colab_type": "text"
      },
      "source": [
        "<a href=\"https://colab.research.google.com/github/123DeepakSharma/Code/blob/main/The_Final_AICTE_model.ipynb\" target=\"_parent\"><img src=\"https://colab.research.google.com/assets/colab-badge.svg\" alt=\"Open In Colab\"/></a>"
      ]
    },
    {
      "cell_type": "code",
      "source": [
        "import numpy as np # linear algebra\n",
        "import pandas as pd # data processing"
      ],
      "metadata": {
        "id": "9lZ2alsI9rxt"
      },
      "execution_count": null,
      "outputs": []
    },
    {
      "cell_type": "code",
      "source": [
        "data = pd.read_csv('/content/water_potability.csv')  # Replace with the correct file path if needed\n",
        "df = data.copy()"
      ],
      "metadata": {
        "id": "IyB1xh7A-OOZ"
      },
      "execution_count": null,
      "outputs": []
    },
    {
      "cell_type": "code",
      "source": [
        "df.head()"
      ],
      "metadata": {
        "id": "rXue_nal-5g5"
      },
      "execution_count": null,
      "outputs": []
    },
    {
      "cell_type": "code",
      "source": [
        "import numpy as np\n",
        "import pandas as pd\n",
        "import seaborn as sns\n",
        "import matplotlib.pyplot as plt\n",
        "%matplotlib inline\n",
        "import plotly.express as px\n",
        "import warnings\n",
        "warnings.filterwarnings('ignore')"
      ],
      "metadata": {
        "id": "yH5NRfzR_Ahi"
      },
      "execution_count": null,
      "outputs": []
    },
    {
      "cell_type": "code",
      "source": [
        "print(df.shape)"
      ],
      "metadata": {
        "id": "Rz2EaV6__O_Z"
      },
      "execution_count": null,
      "outputs": []
    },
    {
      "cell_type": "code",
      "source": [
        "print(df.columns)"
      ],
      "metadata": {
        "id": "LWH4wX1g_iCj"
      },
      "execution_count": null,
      "outputs": []
    },
    {
      "cell_type": "code",
      "source": [
        "df.describe()"
      ],
      "metadata": {
        "id": "uUtNhhCO_qMP"
      },
      "execution_count": null,
      "outputs": []
    },
    {
      "cell_type": "code",
      "source": [
        "df.info()"
      ],
      "metadata": {
        "id": "EsLSmxO9_skp"
      },
      "execution_count": null,
      "outputs": []
    },
    {
      "cell_type": "code",
      "source": [
        "print(df.nunique())"
      ],
      "metadata": {
        "id": "G11bV6Ky_zU4"
      },
      "execution_count": null,
      "outputs": []
    },
    {
      "cell_type": "code",
      "source": [
        "print(df.isnull().sum())"
      ],
      "metadata": {
        "id": "Do7zSa4D_4mF"
      },
      "execution_count": null,
      "outputs": []
    },
    {
      "cell_type": "code",
      "source": [
        "df.dtypes"
      ],
      "metadata": {
        "id": "TIHxRqoe__c-"
      },
      "execution_count": null,
      "outputs": []
    },
    {
      "cell_type": "code",
      "source": [
        "sns.heatmap(df.isnull())"
      ],
      "metadata": {
        "id": "oCsW_PfOAEqX"
      },
      "execution_count": null,
      "outputs": []
    },
    {
      "cell_type": "code",
      "source": [
        "plt.figure(figsize=(10, 8))\n",
        "sns.heatmap(df.corr(), annot= True, cmap='coolwarm')"
      ],
      "metadata": {
        "id": "yuDYokZUAKgd"
      },
      "execution_count": null,
      "outputs": []
    },
    {
      "cell_type": "code",
      "source": [
        "corr = df.corr()\n",
        "c1 = corr.abs().unstack()\n",
        "c1.sort_values(ascending = False)[12:24:2]"
      ],
      "metadata": {
        "id": "-nJoF6F1AWLK"
      },
      "execution_count": null,
      "outputs": []
    },
    {
      "cell_type": "code",
      "source": [
        "ax = sns.countplot(x = \"Potability\",data= df, saturation=0.8)\n",
        "plt.xticks(ticks=[0, 1], labels = [\"Not Potable\", \"Potable\"])\n",
        "plt.show()"
      ],
      "metadata": {
        "id": "tqyHkxeVAcQ6"
      },
      "execution_count": null,
      "outputs": []
    },
    {
      "cell_type": "code",
      "source": [
        "x = df.Potability.value_counts()\n",
        "labels = [0,1]\n",
        "print(x)"
      ],
      "metadata": {
        "id": "_1-NfsQhAhpc"
      },
      "execution_count": null,
      "outputs": []
    },
    {
      "cell_type": "code",
      "source": [
        "sns.violinplot(x='Potability', y='ph', data=df, palette='rocket')"
      ],
      "metadata": {
        "id": "kDNcQY4KAoSI"
      },
      "execution_count": null,
      "outputs": []
    },
    {
      "cell_type": "code",
      "source": [
        "fig, ax = plt.subplots(ncols = 5, nrows = 2, figsize = (20, 10))\n",
        "index = 0\n",
        "ax = ax.flatten()\n",
        "\n",
        "for col, value in df.items():\n",
        "    sns.boxplot(y=col, data=df, ax=ax[index])\n",
        "    index += 1\n",
        "    plt.tight_layout(pad = 0.5, w_pad=0.7, h_pad=5.0)"
      ],
      "metadata": {
        "id": "qDV_vUL8Auov"
      },
      "execution_count": null,
      "outputs": []
    },
    {
      "cell_type": "code",
      "source": [
        "plt.rcParams['figure.figsize'] = [20,10]\n",
        "df.hist()\n",
        "plt.show()"
      ],
      "metadata": {
        "id": "si8Jz4FNA-qZ"
      },
      "execution_count": null,
      "outputs": []
    },
    {
      "cell_type": "code",
      "source": [
        "sns.pairplot(df, hue=\"Potability\")"
      ],
      "metadata": {
        "id": "RmVsGeG0BF0i"
      },
      "execution_count": null,
      "outputs": []
    },
    {
      "cell_type": "code",
      "source": [
        "plt.rcParams['figure.figsize'] = [7,5]\n",
        "sns.distplot(df['Potability'])"
      ],
      "metadata": {
        "id": "ewyMoansBU6Q"
      },
      "execution_count": null,
      "outputs": []
    },
    {
      "cell_type": "code",
      "source": [
        "df.hist(column='ph', by='Potability')"
      ],
      "metadata": {
        "id": "YQa5slKNBbS9"
      },
      "execution_count": null,
      "outputs": []
    },
    {
      "cell_type": "code",
      "source": [
        "df.hist(column='Hardness', by='Potability')"
      ],
      "metadata": {
        "id": "ns8O4maaBlA9"
      },
      "execution_count": null,
      "outputs": []
    },
    {
      "cell_type": "code",
      "source": [
        "def Box(df):\n",
        "      plt.title(\"Box Plot\")\n",
        "      sns.boxplot(df)\n",
        "      plt.show()\n",
        "      Box(df['ph'])\n",
        "      Box(df['Hardness'])\n"
      ],
      "metadata": {
        "id": "oq3wgHCHBrYD"
      },
      "execution_count": null,
      "outputs": []
    },
    {
      "cell_type": "code",
      "source": [
        "sns.histplot(x = \"Hardness\", data=df)"
      ],
      "metadata": {
        "id": "Ktkb9xpVCL-1"
      },
      "execution_count": null,
      "outputs": []
    },
    {
      "cell_type": "code",
      "source": [
        "df.nunique()"
      ],
      "metadata": {
        "id": "nNCjpn21CS02"
      },
      "execution_count": null,
      "outputs": []
    },
    {
      "cell_type": "code",
      "source": [
        "skew_val = df.skew().sort_values(ascending=False)\n",
        "skew_val"
      ],
      "metadata": {
        "id": "XS4yAmn_CaHS"
      },
      "execution_count": null,
      "outputs": []
    },
    {
      "cell_type": "code",
      "source": [
        "fig = px.box(df, x=\"Potability\", y=\"ph\", color=\"Potability\", width=800, height=400)\n",
        "fig.show()"
      ],
      "metadata": {
        "id": "a3udQQvBCfw8"
      },
      "execution_count": null,
      "outputs": []
    },
    {
      "cell_type": "code",
      "source": [
        "fig = px.box(df, x=\"Potability\", y=\"Hardness\", color=\"Potability\", width=800, height=400)\n",
        "fig.show()"
      ],
      "metadata": {
        "id": "63Zw69RqCn2j"
      },
      "execution_count": null,
      "outputs": []
    },
    {
      "cell_type": "code",
      "source": [
        "fig = px.histogram (df, x = \"Sulfate\",  facet_row = \"Potability\",  template = 'plotly_dark')\n",
        "fig.show ()"
      ],
      "metadata": {
        "id": "34ZR4hhpCu1Y"
      },
      "execution_count": null,
      "outputs": []
    },
    {
      "cell_type": "code",
      "source": [
        "fig = px.histogram (df, x = \"Trihalomethanes\",  facet_row = \"Potability\",  template = 'plotly_dark')\n",
        "fig.show ()"
      ],
      "metadata": {
        "id": "dtJmu0C4C4N3"
      },
      "execution_count": null,
      "outputs": []
    },
    {
      "cell_type": "code",
      "source": [
        "fig =  px.pie (df, names = \"Potability\", hole = 0.4, template = \"plotly_dark\")\n",
        "fig.show ()"
      ],
      "metadata": {
        "id": "SROB2JxNDAf2"
      },
      "execution_count": null,
      "outputs": []
    },
    {
      "cell_type": "code",
      "source": [
        "fig = px.scatter (df, x = \"ph\", y = \"Sulfate\", color = \"Potability\", template = \"plotly_dark\",  trendline=\"ols\")\n",
        "fig.show ()"
      ],
      "metadata": {
        "id": "aKl2tp4wDIgg"
      },
      "execution_count": null,
      "outputs": []
    },
    {
      "cell_type": "code",
      "source": [
        "fig = px.scatter (df, x = \"Organic_carbon\", y = \"Hardness\", color = \"Potability\", template = \"plotly_dark\",  trendline=\"lowess\")\n",
        "fig.show ()"
      ],
      "metadata": {
        "id": "IDm31C6wErpm"
      },
      "execution_count": null,
      "outputs": []
    },
    {
      "cell_type": "code",
      "source": [
        "df.isnull().mean().plot.bar(figsize=(10,6))\n",
        "plt.ylabel('Percentage of missing values')\n",
        "plt.xlabel('Features')\n",
        "plt.title('Missing Data in Percentages');"
      ],
      "metadata": {
        "id": "levzoG1fE76D"
      },
      "execution_count": null,
      "outputs": []
    },
    {
      "cell_type": "code",
      "source": [
        "df['ph'] = df['ph'].fillna(df['ph'].mean())\n",
        "df['Sulfate'] = df['Sulfate'].fillna(df['Sulfate'].mean())\n",
        "df['Trihalomethanes'] = df['Trihalomethanes'].fillna(df['Trihalomethanes'].mean())"
      ],
      "metadata": {
        "id": "EPLeGZJqFENE"
      },
      "execution_count": null,
      "outputs": []
    },
    {
      "cell_type": "code",
      "source": [
        "df.head()"
      ],
      "metadata": {
        "id": "NPhJXp5aFPAe"
      },
      "execution_count": null,
      "outputs": []
    },
    {
      "cell_type": "code",
      "source": [
        "sns.heatmap(df.isnull())"
      ],
      "metadata": {
        "id": "n3_jHJtqFSND"
      },
      "execution_count": null,
      "outputs": []
    },
    {
      "cell_type": "code",
      "source": [
        "df.isnull().sum()"
      ],
      "metadata": {
        "id": "OBXK8IiFFZDb"
      },
      "execution_count": null,
      "outputs": []
    },
    {
      "cell_type": "code",
      "source": [
        "X = df.drop('Potability', axis=1)\n",
        "y = df['Potability']"
      ],
      "metadata": {
        "id": "_ucyRGoBFmXj"
      },
      "execution_count": null,
      "outputs": []
    },
    {
      "cell_type": "code",
      "source": [
        "X.shape, y.shape"
      ],
      "metadata": {
        "id": "dZK6HoE2FtPp"
      },
      "execution_count": null,
      "outputs": []
    },
    {
      "cell_type": "code",
      "source": [
        "from sklearn.preprocessing import StandardScaler\n",
        "scaler = StandardScaler()"
      ],
      "metadata": {
        "id": "E8HGu5S5Fycj"
      },
      "execution_count": null,
      "outputs": []
    },
    {
      "cell_type": "code",
      "source": [
        "X = scaler.fit_transform(X)\n",
        "X"
      ],
      "metadata": {
        "id": "Ca1dpY5EF5FO"
      },
      "execution_count": null,
      "outputs": []
    },
    {
      "cell_type": "code",
      "source": [
        "from sklearn.model_selection import train_test_split"
      ],
      "metadata": {
        "id": "I-oQoYFPGF_K"
      },
      "execution_count": null,
      "outputs": []
    },
    {
      "cell_type": "code",
      "source": [
        "X_train, X_test, y_train, y_test = train_test_split(X, y, test_size=0.33, random_state=42)"
      ],
      "metadata": {
        "id": "nJojEwQUGL4N"
      },
      "execution_count": null,
      "outputs": []
    },
    {
      "cell_type": "markdown",
      "source": [
        "#Using Logistic Regression"
      ],
      "metadata": {
        "id": "CBOFUvuMGj2o"
      }
    },
    {
      "cell_type": "code",
      "source": [
        "from sklearn.linear_model import LogisticRegression\n",
        "from sklearn.metrics import confusion_matrix, accuracy_score, classification_report"
      ],
      "metadata": {
        "id": "0mLK9Z66GRDM"
      },
      "execution_count": null,
      "outputs": []
    },
    {
      "cell_type": "code",
      "source": [
        "model_lg = LogisticRegression(max_iter=120,random_state=0, n_jobs=20)"
      ],
      "metadata": {
        "id": "GL919j30G02z"
      },
      "execution_count": null,
      "outputs": []
    },
    {
      "cell_type": "code",
      "source": [
        "model_lg.fit(X_train, y_train)"
      ],
      "metadata": {
        "id": "AaNswb4hHBqZ"
      },
      "execution_count": null,
      "outputs": []
    },
    {
      "cell_type": "code",
      "source": [
        "pred_lg = model_lg.predict(X_test)"
      ],
      "metadata": {
        "id": "9syE6lIOHFro"
      },
      "execution_count": null,
      "outputs": []
    },
    {
      "cell_type": "code",
      "source": [
        "lg = accuracy_score(y_test, pred_lg)\n",
        "print(lg)"
      ],
      "metadata": {
        "id": "XIi8htN7HK7y"
      },
      "execution_count": null,
      "outputs": []
    },
    {
      "cell_type": "code",
      "source": [
        "print(classification_report(y_test,pred_lg))"
      ],
      "metadata": {
        "id": "hvHcWj91HPWc"
      },
      "execution_count": null,
      "outputs": []
    },
    {
      "cell_type": "code",
      "source": [
        "cm1 = confusion_matrix(y_test, pred_lg)\n",
        "sns.heatmap(cm1/np.sum(cm1), annot = True, fmt=  '0.2%', cmap = 'Reds')"
      ],
      "metadata": {
        "id": "DMV61_vdHVqW"
      },
      "execution_count": null,
      "outputs": []
    },
    {
      "cell_type": "markdown",
      "source": [
        "#Using Decision Tree Classifier"
      ],
      "metadata": {
        "id": "oNTRmTJzHenh"
      }
    },
    {
      "cell_type": "code",
      "source": [
        "from sklearn.tree import DecisionTreeClassifier"
      ],
      "metadata": {
        "id": "eN0EEN9xHbVJ"
      },
      "execution_count": null,
      "outputs": []
    },
    {
      "cell_type": "code",
      "source": [
        "model_dt = DecisionTreeClassifier( max_depth=4, random_state=42)"
      ],
      "metadata": {
        "id": "jOWGN-26HmtN"
      },
      "execution_count": null,
      "outputs": []
    },
    {
      "cell_type": "code",
      "source": [
        "model_dt.fit(X_train,y_train)"
      ],
      "metadata": {
        "id": "Dec1Dn6VHv70"
      },
      "execution_count": null,
      "outputs": []
    },
    {
      "cell_type": "code",
      "source": [
        "pred_dt = model_dt.predict(X_test)"
      ],
      "metadata": {
        "id": "0_qncgjDIE1E"
      },
      "execution_count": null,
      "outputs": []
    },
    {
      "cell_type": "code",
      "source": [
        "dt = accuracy_score(y_test, pred_dt)\n",
        "print(dt)"
      ],
      "metadata": {
        "id": "EmwIq3BqIQIE"
      },
      "execution_count": null,
      "outputs": []
    },
    {
      "cell_type": "code",
      "source": [
        "print(classification_report(y_test,pred_dt))"
      ],
      "metadata": {
        "id": "ZQWshrHVIYGG"
      },
      "execution_count": null,
      "outputs": []
    },
    {
      "cell_type": "code",
      "source": [
        "cm2 = confusion_matrix(y_test, pred_dt)\n",
        "sns.heatmap(cm2/np.sum(cm2), annot = True, fmt=  '0.2%', cmap = 'Reds')"
      ],
      "metadata": {
        "id": "BzONaq7xIjYz"
      },
      "execution_count": null,
      "outputs": []
    },
    {
      "cell_type": "markdown",
      "source": [
        "#Using KNeighbours"
      ],
      "metadata": {
        "id": "rkzOcTRbI3uf"
      }
    },
    {
      "cell_type": "code",
      "source": [
        "from sklearn.neighbors import KNeighborsClassifier"
      ],
      "metadata": {
        "id": "c9PnONWRIpl3"
      },
      "execution_count": null,
      "outputs": []
    },
    {
      "cell_type": "code",
      "source": [
        "model_kn = KNeighborsClassifier(n_neighbors=9, leaf_size=20)"
      ],
      "metadata": {
        "id": "J7dHcAM8JPqN"
      },
      "execution_count": null,
      "outputs": []
    },
    {
      "cell_type": "code",
      "source": [
        "model_kn.fit(X_train, y_train)"
      ],
      "metadata": {
        "id": "6TTCBpJ2JX-k"
      },
      "execution_count": null,
      "outputs": []
    },
    {
      "cell_type": "code",
      "source": [
        "pred_kn = model_kn.predict(X_test)"
      ],
      "metadata": {
        "id": "YmAcldDlJfHH"
      },
      "execution_count": null,
      "outputs": []
    },
    {
      "cell_type": "code",
      "source": [
        "kn = accuracy_score(y_test, pred_kn)\n",
        "print(kn)"
      ],
      "metadata": {
        "id": "zCwmXf4OJk6m"
      },
      "execution_count": null,
      "outputs": []
    },
    {
      "cell_type": "code",
      "source": [
        "print(classification_report(y_test,pred_kn))"
      ],
      "metadata": {
        "id": "Z45-Y0S1JzaW"
      },
      "execution_count": null,
      "outputs": []
    },
    {
      "cell_type": "code",
      "source": [
        "cm5 = confusion_matrix(y_test, pred_kn)\n",
        "sns.heatmap(cm5/np.sum(cm5), annot = True, fmt=  '0.2%', cmap = 'Reds')"
      ],
      "metadata": {
        "id": "_KJBQX14J5gn"
      },
      "execution_count": null,
      "outputs": []
    },
    {
      "cell_type": "markdown",
      "source": [
        "#Using SVM"
      ],
      "metadata": {
        "id": "KBzmwQQ8KDRt"
      }
    },
    {
      "cell_type": "code",
      "source": [
        "from sklearn.svm import SVC, LinearSVC"
      ],
      "metadata": {
        "id": "mupIhKQSKCMe"
      },
      "execution_count": null,
      "outputs": []
    },
    {
      "cell_type": "code",
      "source": [
        "model_svm = SVC(kernel='rbf', random_state = 42)"
      ],
      "metadata": {
        "id": "O6JtnvwNKMak"
      },
      "execution_count": null,
      "outputs": []
    },
    {
      "cell_type": "code",
      "source": [
        "model_svm.fit(X_train, y_train)"
      ],
      "metadata": {
        "id": "rJF5DEnnKRZD"
      },
      "execution_count": null,
      "outputs": []
    },
    {
      "cell_type": "code",
      "source": [
        "pred_svm = model_svm.predict(X_test)"
      ],
      "metadata": {
        "id": "CU_NHTrmKXcv"
      },
      "execution_count": null,
      "outputs": []
    },
    {
      "cell_type": "code",
      "source": [
        "sv = accuracy_score(y_test, pred_svm)\n",
        "print(sv)"
      ],
      "metadata": {
        "id": "5rLhnvMRKcUC"
      },
      "execution_count": null,
      "outputs": []
    },
    {
      "cell_type": "code",
      "source": [
        "print(classification_report(y_test,pred_kn))"
      ],
      "metadata": {
        "id": "-9OqZAAvKhLq"
      },
      "execution_count": null,
      "outputs": []
    },
    {
      "cell_type": "code",
      "source": [
        "cm6 = confusion_matrix(y_test, pred_svm)\n",
        "sns.heatmap(cm6/np.sum(cm6), annot = True, fmt=  '0.2%', cmap = 'Reds')"
      ],
      "metadata": {
        "id": "uFN1VqtiKm5B"
      },
      "execution_count": null,
      "outputs": []
    },
    {
      "cell_type": "code",
      "source": [
        "from sklearn.ensemble import AdaBoostClassifier"
      ],
      "metadata": {
        "id": "UeOW3TNmKtff"
      },
      "execution_count": null,
      "outputs": []
    },
    {
      "cell_type": "code",
      "source": [
        "model_ada = AdaBoostClassifier(learning_rate= 0.002,n_estimators= 205,random_state=42)"
      ],
      "metadata": {
        "id": "GnwtkeuGK0AP"
      },
      "execution_count": null,
      "outputs": []
    },
    {
      "cell_type": "code",
      "source": [
        "model_ada.fit(X_train, y_train)"
      ],
      "metadata": {
        "id": "9F9IWU_UK5Ci"
      },
      "execution_count": null,
      "outputs": []
    },
    {
      "cell_type": "code",
      "source": [
        "pred_ada = model_ada.predict(X_test)"
      ],
      "metadata": {
        "id": "DE0xnVq4LC1K"
      },
      "execution_count": null,
      "outputs": []
    },
    {
      "cell_type": "code",
      "source": [
        "ada = accuracy_score(y_test, pred_ada)\n",
        "print(ada)"
      ],
      "metadata": {
        "id": "XffjI9JjLKSW"
      },
      "execution_count": null,
      "outputs": []
    },
    {
      "cell_type": "code",
      "source": [
        "print(classification_report(y_test,pred_ada))"
      ],
      "metadata": {
        "id": "65NEwX2OLQ31"
      },
      "execution_count": null,
      "outputs": []
    },
    {
      "cell_type": "code",
      "source": [
        "cm7 = confusion_matrix(y_test, pred_ada)\n",
        "sns.heatmap(cm7/np.sum(cm7), annot = True, fmt=  '0.2%', cmap = 'Reds')"
      ],
      "metadata": {
        "id": "j8SCWJogLZzL"
      },
      "execution_count": null,
      "outputs": []
    },
    {
      "cell_type": "code",
      "source": [
        "models = pd.DataFrame({\n",
        "      'Model':['Logistic Regression', 'Decision Tree',\n",
        "     'KNeighbours', 'SVM', 'AdaBoost'],\n",
        "          'Accuracy_score' :[lg, dt, kn, sv, ada]\n",
        "          })\n",
        "models\n",
        "sns.barplot(x='Accuracy_score', y='Model', data=models)\n",
        "\n",
        "models.sort_values(by='Accuracy_score', ascending=False)\n"
      ],
      "metadata": {
        "id": "8Ygry7zyLoZu"
      },
      "execution_count": null,
      "outputs": []
    }
  ]
}